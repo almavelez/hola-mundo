# %% [markdown]
# # Un programa Python

# %%
sum = 1 + 2 *2
print("El resultado es: ",sum)

print('Hola desde la consola')

# %% [markdown]
# # Realiza un cálculo y se almacena en variables

# %%
sum = 1 + 2 # 3
product = sum * 2
print("El resultado es: ",product)

# %% [markdown]
# # Tipos de datos con funcion type()

# %%
distancia_a_alfa_centauri = 4.367 # float, años luz
print("EL tipo de dato es: ",type(distancia_a_alfa_centauri))

# %% [markdown]
# # Operadores

# %%
left_side = 10.5
right_side = 5
left_side / right_side *2 # 2

# %% [markdown]
# # Operadores de asignación

# %%
x = 2
print(x)
x = 2
x += 2
print(x)
x = 2
x -= 2
print(x)
x = 2
x /= 2
print(x)
x = 2
x *= 2
print(x)


# %% [markdown]
# # Imprimir fecha

# %%
# como invocar a biblioteca y mostrar fecha
from datetime import date
import string
date.today()
print(date.today())

# %% [markdown]
# # Conversión de tipos de datos

# %%
#se obtiene un error
print("Today's date is: " + date.today())
#corregir para que date sea cadena y deje concatenar
print("Today's date is: " + str(date.today()))

# %% [markdown]
# # Recopilar información con input()

# %%
print("Bienvenido al programa de bienvenida")
name = input("Checa en la barra de arriba e Introduzca su nombre ")
print("Saludos: " + name)

# %% [markdown]
# # Recopilar información con numeros, calcuadora, los toma como string

# %%
print("Calculadora")
first_number = input("Primer número: ")
second_number = input("Segundo número: ")
print(first_number + second_number)

# %% [markdown]
# # Recopilar información con numeros, calcuadora, los toma como string, convertirlos a int para que los sume

# %%
print("Calculadora")
first_number = input("Primer número: ")
second_number = input("Segundo número: ")
print(int(first_number) + int(second_number))


